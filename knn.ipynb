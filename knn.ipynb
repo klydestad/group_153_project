{
 "cells": [
  {
   "cell_type": "markdown",
   "id": "11585cc8-f20d-4285-916b-0f7c7e6cc69f",
   "metadata": {},
   "source": [
    "# KNN Regression Model\n",
    "\n",
    "might not use?\n",
    "\n",
    "*Data Analysis :*\n",
    "\n",
    "In order to investigate our question we created a K-Nearest Neighbors regression model in order to predict an individual's age, based on their present symptoms."
   ]
  },
  {
   "cell_type": "code",
   "execution_count": 1,
   "id": "1eb3e1fa-d895-477c-847b-765fdb2efa20",
   "metadata": {},
   "outputs": [
    {
     "ename": "ERROR",
     "evalue": "Error in nearest_neighbor(weight_func = \"rectangular\", neighbors = tune()) %>% : could not find function \"%>%\"\n",
     "output_type": "error",
     "traceback": [
      "Error in nearest_neighbor(weight_func = \"rectangular\", neighbors = tune()) %>% : could not find function \"%>%\"\nTraceback:\n"
     ]
    }
   ],
   "source": [
    "set.seed(2000)\n",
    "\n",
    "# Find best K value\n",
    "heart_spec_2 <- nearest_neighbor(weight_func = \"rectangular\", neighbors = tune()) %>% \n",
    "      set_engine(\"kknn\") %>%\n",
    "      set_mode(\"regression\") \n",
    "\n",
    "heart_recipe_2 <- heart_recipe %>%\n",
    "      step_scale(all_predictors()) %>%\n",
    "      step_center(all_predictors())\n",
    "\n",
    "heart_vfold <- vfold_cv(heart_training, v = 5, strata = age)\n",
    "\n",
    "heart_workflow_2 <- workflow() %>%\n",
    "  add_recipe(heart_recipe_2) %>%\n",
    "  add_model(heart_spec_2)\n",
    "\n",
    "gridvals <- tibble(neighbors = seq(from = 1, to = 20))\n",
    "\n",
    "heart_results <- heart_workflow_2 %>%\n",
    "  tune_grid(resamples = heart_vfold, grid = gridvals) %>%\n",
    "  collect_metrics() \n",
    "\n",
    "k_min <- heart_results %>%\n",
    "   filter(.metric == \"rmse\") %>%\n",
    "   arrange(mean) %>% \n",
    "   slice(1) %>%\n",
    "   select(neighbors) %>%\n",
    "   pull()\n",
    "\n",
    "# Find RMSPE using best K value\n",
    "heart_best_spec <- nearest_neighbor(weight_func = \"rectangular\", neighbors = k_min) %>%\n",
    "         set_engine(\"kknn\") %>%\n",
    "         set_mode(\"regression\")\n",
    "\n",
    "heart_best_fit <- workflow() %>%\n",
    "         add_recipe(heart_recipe_2) %>%\n",
    "         add_model(heart_best_spec) %>%\n",
    "         fit(data = heart_training)\n",
    "\n",
    "knn_rmspe <- heart_best_fit %>%\n",
    "          predict(heart_testing) %>%\n",
    "          bind_cols(heart_testing) %>%\n",
    "          metrics(truth = age, estimate = .pred) %>%\n",
    "          filter(.metric == \"rmse\") %>%\n",
    "          select(.estimate) %>%\n",
    "          pull()\n",
    "\n",
    "\n",
    "#knn_rmspe"
   ]
  },
  {
   "cell_type": "code",
   "execution_count": 2,
   "id": "4a228f0a-10ed-4b5c-9b78-38f7adcfc877",
   "metadata": {},
   "outputs": [
    {
     "ename": "ERROR",
     "evalue": "Error in nearest_neighbor(weight_func = \"rectangular\", neighbors = tune()) %>% : could not find function \"%>%\"\n",
     "output_type": "error",
     "traceback": [
      "Error in nearest_neighbor(weight_func = \"rectangular\", neighbors = tune()) %>% : could not find function \"%>%\"\nTraceback:\n"
     ]
    }
   ],
   "source": [
    "set.seed(2000) #DO NOT REMOVE\n",
    "\n",
    "# model specifications \n",
    "heart_spec <- nearest_neighbor(weight_func = \"rectangular\", neighbors = tune()) %>%\n",
    "                 set_engine(\"kknn\") %>%\n",
    "                 set_mode(\"regression\")\n",
    "\n",
    "# recipe\n",
    "heart_recipe <- recipe(age ~ ., data = heart_training) %>%\n",
    "                   step_scale(all_predictors()) %>%\n",
    "                   step_center(all_predictors())\n",
    "\n",
    "#heart_spec\n",
    "#heart_recipe"
   ]
  },
  {
   "cell_type": "code",
   "execution_count": 3,
   "id": "2eaf818a-f390-468f-897a-af9233748061",
   "metadata": {},
   "outputs": [
    {
     "ename": "ERROR",
     "evalue": "Error in vfold_cv(heart_training, v = 5, strata = age): could not find function \"vfold_cv\"\n",
     "output_type": "error",
     "traceback": [
      "Error in vfold_cv(heart_training, v = 5, strata = age): could not find function \"vfold_cv\"\nTraceback:\n"
     ]
    }
   ],
   "source": [
    "set.seed(2000) #DO NOT REMOVE\n",
    "\n",
    "heart_vfold <- vfold_cv(heart_training, v = 5, strata = age)\n",
    "\n",
    "heart_workflow <- workflow() %>%\n",
    "                     add_recipe(heart_recipe) %>%\n",
    "                     add_model(heart_spec)\n",
    "#heart_vfold\n",
    "#heart_workflow"
   ]
  },
  {
   "cell_type": "code",
   "execution_count": 4,
   "id": "270e8cf6-2d55-441b-9b63-15e173fa1ab8",
   "metadata": {},
   "outputs": [
    {
     "ename": "ERROR",
     "evalue": "Error in tibble(neighbors = seq(1, 100)): could not find function \"tibble\"\n",
     "output_type": "error",
     "traceback": [
      "Error in tibble(neighbors = seq(1, 100)): could not find function \"tibble\"\nTraceback:\n"
     ]
    }
   ],
   "source": [
    "# 3. a) \n",
    "\n",
    "set.seed(2000) # DO NOT CHANGE\n",
    "\n",
    "gridvals <- tibble(neighbors = seq(1, 100))\n",
    "\n",
    "heart_results <- heart_workflow |>\n",
    "                        tune_grid(resamples = heart_vfold, grid = gridvals) |>\n",
    "                        collect_metrics()\n",
    "heart_results\n",
    "\n",
    "#gridvals\n",
    "#heart_results\n"
   ]
  },
  {
   "cell_type": "code",
   "execution_count": 5,
   "id": "ad376280-76f4-4ba6-9dcf-459b78a98acc",
   "metadata": {},
   "outputs": [
    {
     "ename": "ERROR",
     "evalue": "Error in slice(arrange(filter(heart_results, .metric == \"rmse\"), mean), : could not find function \"slice\"\n",
     "output_type": "error",
     "traceback": [
      "Error in slice(arrange(filter(heart_results, .metric == \"rmse\"), mean), : could not find function \"slice\"\nTraceback:\n"
     ]
    }
   ],
   "source": [
    "# 3. b)\n",
    "set.seed(2000) # DO NOT REMOVE\n",
    "\n",
    "heart_min <- heart_results |>\n",
    "    filter(.metric == \"rmse\") |>\n",
    "    arrange(mean)  |> \n",
    "    slice(1)\n",
    "\n",
    "#heart_min"
   ]
  },
  {
   "cell_type": "code",
   "execution_count": 6,
   "id": "98a17425-d29b-47e5-8122-aa5d8fba472b",
   "metadata": {},
   "outputs": [
    {
     "ename": "ERROR",
     "evalue": "Error in pull(heart_min, neighbors): could not find function \"pull\"\n",
     "output_type": "error",
     "traceback": [
      "Error in pull(heart_min, neighbors): could not find function \"pull\"\nTraceback:\n"
     ]
    }
   ],
   "source": [
    "# 4.\n",
    "\n",
    "set.seed(2000) #DO NOT REMOVE\n",
    "\n",
    "# 4. a) \n",
    "\n",
    "k_min <- heart_min |>\n",
    "            pull(neighbors)\n",
    "\n",
    "\n",
    "# 4. b)\n",
    "\n",
    "heart_best_spec <- nearest_neighbor(weight_func = \"rectangular\", neighbors = k_min) |>\n",
    "                            set_engine(\"kknn\") |>\n",
    "                            set_mode(\"regression\")\n",
    "\n",
    "heart_best_fit <- workflow() |>\n",
    "                        add_recipe(heart_recipe) |>\n",
    "                        add_model(heart_best_spec) |>\n",
    "                        fit(data = heart_training)\n",
    "\n",
    "\n",
    "# 4. c)\n",
    "\n",
    "heart_summary <- heart_best_fit |> \n",
    "                       predict(heart_testing) |>\n",
    "                       bind_cols(heart_testing) |>\n",
    "                       metrics(truth = age, estimate = .pred) \n",
    "\n",
    "#heart_summary\n"
   ]
  },
  {
   "cell_type": "code",
   "execution_count": null,
   "id": "22856c7e-19b5-4b60-952b-97d27bf0789a",
   "metadata": {},
   "outputs": [],
   "source": [
    "# 5.\n",
    "\n",
    "set.seed(2000) # DO NOT CHANGE\n",
    "\n",
    "options(repr.plot.width = 7, repr.plot.height = 7)\n",
    "\n",
    "heart_preds <- heart_best_fit %>%\n",
    "                predict(heart_training) %>%\n",
    "                bind_cols(heart_training)\n",
    "\n",
    "heart_plot <- ggplot(marathon_preds, aes(x = #max#, y = age)) +\n",
    "            geom_point(alpha = 0.4) +\n",
    "            xlab(#\"Maximum Distance Ran per \\n Week During Training (mi)\"#) +\n",
    "            ylab(\"Age (Years)\") + \n",
    "            geom_line(data = heart_preds, aes(x = #max#, y = .pred), color = \"blue\") +\n",
    "            ggtitle(paste#0#(\"K = \", k_min)) +\n",
    "            theme(text = element_text(size = 20))\n",
    "\n",
    "\n",
    "#heart_plot\n",
    "\n"
   ]
  }
 ],
 "metadata": {
  "kernelspec": {
   "display_name": "R",
   "language": "R",
   "name": "ir"
  },
  "language_info": {
   "codemirror_mode": "r",
   "file_extension": ".r",
   "mimetype": "text/x-r-source",
   "name": "R",
   "pygments_lexer": "r",
   "version": "4.1.3"
  }
 },
 "nbformat": 4,
 "nbformat_minor": 5
}
