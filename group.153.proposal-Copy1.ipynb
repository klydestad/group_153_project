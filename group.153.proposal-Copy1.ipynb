{
 "cells": [
  {
   "cell_type": "code",
   "execution_count": 6,
   "id": "33772fc0",
   "metadata": {},
   "outputs": [],
   "source": [
    "### Run this cell before continuing.\n",
    "library(tidyverse)\n",
    "library(repr)\n",
    "library(tidymodels)\n",
    "options(repr.matrix.max.rows = 6)"
   ]
  },
  {
   "cell_type": "markdown",
   "id": "fa55a3ac",
   "metadata": {},
   "source": [
    "# Heart Disease and Age\n",
    "<img align=\"left\" src=\"https://img.webmd.com/dtmcms/live/webmd/consumer_assets/site_images/article_thumbnails/slideshows/how_heart_disease_affects_your_body_slideshow/650x350_how_heart_disease_affects_your_body_slideshow.jpg\" width=\"500\"/>"
   ]
  },
  {
   "cell_type": "markdown",
   "id": "261e3185",
   "metadata": {
    "tags": []
   },
   "source": [
    "## Introduction"
   ]
  },
  {
   "cell_type": "markdown",
   "id": "08c6532c",
   "metadata": {},
   "source": [
    "**Background Information**\n",
    "\n",
    "Heart disease is a broad range of diseases that affects an individual's heart and blood vessels.\n",
    "\n",
    "These diseases can be influenced by many factors, including underlying health conditions and lifestyle choices.\n"
   ]
  },
  {
   "cell_type": "markdown",
   "id": "3d88bcc1",
   "metadata": {},
   "source": [
    "**Our Question**\n",
    "\n",
    "Can the age of an individual with heart disease be predicted by the severity of their symptoms?"
   ]
  },
  {
   "cell_type": "markdown",
   "id": "cfd725e1",
   "metadata": {},
   "source": [
    "**The Dataset** \n",
    "\n",
    "We are using the “Heart Disease” dataset. This dataset describes a range of attributes, as well as an indication as to the presence of heart disease within each individual. The specific datasets we will be analyzing contains a subset of 14 main attributes, including information about a patient’s sex, age, symptoms, and diagnosis.\n",
    "\n",
    "https://archive.ics.uci.edu/ml/datasets/Heart+Disease"
   ]
  },
  {
   "cell_type": "markdown",
   "id": "d1962606",
   "metadata": {},
   "source": [
    "## Preliminary Exploratory Data Analysis"
   ]
  },
  {
   "cell_type": "code",
   "execution_count": 18,
   "id": "0b329381",
   "metadata": {},
   "outputs": [
    {
     "name": "stderr",
     "output_type": "stream",
     "text": [
      "\u001b[1mRows: \u001b[22m\u001b[34m200\u001b[39m \u001b[1mColumns: \u001b[22m\u001b[34m14\u001b[39m\n",
      "\u001b[36m──\u001b[39m \u001b[1mColumn specification\u001b[22m \u001b[36m────────────────────────────────────────────────────────\u001b[39m\n",
      "\u001b[1mDelimiter:\u001b[22m \",\"\n",
      "\u001b[31mchr\u001b[39m (9): trestbps, chol, fbs, thalach, exang, oldpeak, slope, ca, thal\n",
      "\u001b[32mdbl\u001b[39m (5): age, sex, chest_pain, restecg, num\n",
      "\n",
      "\u001b[36mℹ\u001b[39m Use `spec()` to retrieve the full column specification for this data.\n",
      "\u001b[36mℹ\u001b[39m Specify the column types or set `show_col_types = FALSE` to quiet this message.\n"
     ]
    },
    {
     "data": {
      "text/html": [
       "<table class=\"dataframe\">\n",
       "<caption>A tibble: 6 × 4</caption>\n",
       "<thead>\n",
       "\t<tr><th scope=col>age</th><th scope=col>restecg</th><th scope=col>trestbps</th><th scope=col>chol</th></tr>\n",
       "\t<tr><th scope=col>&lt;dbl&gt;</th><th scope=col>&lt;dbl&gt;</th><th scope=col>&lt;chr&gt;</th><th scope=col>&lt;chr&gt;</th></tr>\n",
       "</thead>\n",
       "<tbody>\n",
       "\t<tr><td>63</td><td>1</td><td>140</td><td>260</td></tr>\n",
       "\t<tr><td>44</td><td>1</td><td>130</td><td>209</td></tr>\n",
       "\t<tr><td>60</td><td>1</td><td>132</td><td>218</td></tr>\n",
       "\t<tr><td>55</td><td>1</td><td>142</td><td>228</td></tr>\n",
       "\t<tr><td>66</td><td>2</td><td>110</td><td>213</td></tr>\n",
       "\t<tr><td>66</td><td>1</td><td>120</td><td>0  </td></tr>\n",
       "</tbody>\n",
       "</table>\n"
      ],
      "text/latex": [
       "A tibble: 6 × 4\n",
       "\\begin{tabular}{llll}\n",
       " age & restecg & trestbps & chol\\\\\n",
       " <dbl> & <dbl> & <chr> & <chr>\\\\\n",
       "\\hline\n",
       "\t 63 & 1 & 140 & 260\\\\\n",
       "\t 44 & 1 & 130 & 209\\\\\n",
       "\t 60 & 1 & 132 & 218\\\\\n",
       "\t 55 & 1 & 142 & 228\\\\\n",
       "\t 66 & 2 & 110 & 213\\\\\n",
       "\t 66 & 1 & 120 & 0  \\\\\n",
       "\\end{tabular}\n"
      ],
      "text/markdown": [
       "\n",
       "A tibble: 6 × 4\n",
       "\n",
       "| age &lt;dbl&gt; | restecg &lt;dbl&gt; | trestbps &lt;chr&gt; | chol &lt;chr&gt; |\n",
       "|---|---|---|---|\n",
       "| 63 | 1 | 140 | 260 |\n",
       "| 44 | 1 | 130 | 209 |\n",
       "| 60 | 1 | 132 | 218 |\n",
       "| 55 | 1 | 142 | 228 |\n",
       "| 66 | 2 | 110 | 213 |\n",
       "| 66 | 1 | 120 | 0   |\n",
       "\n"
      ],
      "text/plain": [
       "  age restecg trestbps chol\n",
       "1 63  1       140      260 \n",
       "2 44  1       130      209 \n",
       "3 60  1       132      218 \n",
       "4 55  1       142      228 \n",
       "5 66  2       110      213 \n",
       "6 66  1       120      0   "
      ]
     },
     "metadata": {},
     "output_type": "display_data"
    }
   ],
   "source": [
    "#The data can be read through the file as seen below\n",
    "van_data_csv <- read_csv(\"https://archive.ics.uci.edu/ml/machine-learning-databases/heart-disease/processed.va.data\",col_names =\n",
    "               c(\"age\", \"sex\", \"chest_pain\", \"trestbps\", \"chol\",\n",
    "               \"fbs\",  \"restecg\", \"thalach\", \"exang\", \"oldpeak\", \n",
    "               \"slope\", \"ca\", \"thal\", \"num\")) %>%\n",
    "                filter(restecg != \"?\") %>%\n",
    "                filter(chol != \"?\") %>%\n",
    "                filter(trestbps != \"?\")\n",
    "\n",
    "van_data <- van_data_csv %>%\n",
    "             select(age, restecg, trestbps, chol)\n",
    "\n",
    "\n",
    "head(van_data)\n",
    "\n"
   ]
  },
  {
   "cell_type": "code",
   "execution_count": 19,
   "id": "12aedeb2",
   "metadata": {},
   "outputs": [],
   "source": [
    "van_split <- initial_split(van_data, prop = 0.75, strata = age) \n",
    "van_train <- training(van_split)  \n",
    "van_test <- testing(van_split)  \n",
    "\n"
   ]
  },
  {
   "cell_type": "code",
   "execution_count": 20,
   "id": "d22bf149",
   "metadata": {},
   "outputs": [
    {
     "name": "stderr",
     "output_type": "stream",
     "text": [
      "`stat_bin()` using `bins = 30`. Pick better value with `binwidth`.\n",
      "\n"
     ]
    },
    {
     "data": {
      "image/png": "[encoded data removed]",
      "text/plain": [
       "plot without title"
      ]
     },
     "metadata": {
      "image/png": {
       "height": 420,
       "width": 420
      }
     },
     "output_type": "display_data"
    }
   ],
   "source": [
    "\n",
    "van_plot_hist <- ggplot(van_train, aes(x = age)) + \n",
    "            geom_histogram() + \n",
    "            labs(x = \"Age (years)\", title = \"Number of People With Heart Disease\") + \n",
    "            theme( text = element_text(size = 20)) \n",
    "van_plot_hist"
   ]
  },
  {
   "cell_type": "markdown",
   "id": "c5d2cb60",
   "metadata": {},
   "source": [
    "Through this histogram, we can see a correlation between age, and the quantity of people that contract heart disease. The majority of those with heart disease are bewteen the ages of 55 and 65."
   ]
  },
  {
   "cell_type": "code",
   "execution_count": 21,
   "id": "3ae358e4",
   "metadata": {},
   "outputs": [
    {
     "data": {
      "image/png": "[encoded data removed]",
      "text/plain": [
       "plot without title"
      ]
     },
     "metadata": {
      "image/png": {
       "height": 420,
       "width": 420
      }
     },
     "output_type": "display_data"
    },
    {
     "data": {
      "image/png": "[encoded data removed]",
      "text/plain": [
       "plot without title"
      ]
     },
     "metadata": {
      "image/png": {
       "height": 420,
       "width": 420
      }
     },
     "output_type": "display_data"
    }
   ],
   "source": [
    "van_plot_chol <- ggplot(van_train, aes(x = age, y = chol)) + \n",
    "            geom_point() + \n",
    "            labs(x = \"Age (years)\", y = \"Serum Cholesterol (mg/dL)\", title = \"Age vs. Cholesterol\") +\n",
    "            theme( text = element_text(size = 20)) +\n",
    "            scale_y_discrete(breaks=c(0, 50, 100, 150, 200, 250, 300, 350, 400, 450, 500))\n",
    "            \n",
    "van_plot_bps <- ggplot(van_train, aes(x = age, y = trestbps)) + \n",
    "            geom_point() + \n",
    "            labs(x = \"Age (years)\", y = \"Resting Blood Pressure (mm Hg)\", title = \"Resting Blood Pressure vs. Age\") + \n",
    "            theme( text = element_text(size = 20)) +\n",
    "            scale_y_discrete(breaks=c(0, 50, 100, 150, 200, 250, 300, 350, 400, 450, 500))        \n",
    "            \n",
    "van_plot_chol \n",
    "\n",
    "van_plot_bps \n"
   ]
  },
  {
   "cell_type": "markdown",
   "id": "6dd455da",
   "metadata": {},
   "source": [
    "The highest cholesterol and blood pressure levels can be seen within the older age ranges (above the age of 55)."
   ]
  },
  {
   "cell_type": "code",
   "execution_count": 22,
   "id": "d13feefa-b7cb-4902-9ab0-6e1b320c3e70",
   "metadata": {},
   "outputs": [
    {
     "name": "stderr",
     "output_type": "stream",
     "text": [
      "Warning message:\n",
      "“Too little data to stratify.\n",
      "\u001b[36m•\u001b[39m Resampling will be unstratified.”\n"
     ]
    },
    {
     "name": "stdout",
     "output_type": "stream",
     "text": [
      "[1] \"van_train\"\n"
     ]
    },
    {
     "data": {
      "text/html": [
       "<table class=\"dataframe\">\n",
       "<caption>A tibble: 105 × 4</caption>\n",
       "<thead>\n",
       "\t<tr><th scope=col>age</th><th scope=col>restecg</th><th scope=col>trestbps</th><th scope=col>chol</th></tr>\n",
       "\t<tr><th scope=col>&lt;fct&gt;</th><th scope=col>&lt;dbl&gt;</th><th scope=col>&lt;dbl&gt;</th><th scope=col>&lt;dbl&gt;</th></tr>\n",
       "</thead>\n",
       "<tbody>\n",
       "\t<tr><td>63</td><td>1</td><td>140</td><td>260</td></tr>\n",
       "\t<tr><td>44</td><td>1</td><td>130</td><td>209</td></tr>\n",
       "\t<tr><td>60</td><td>1</td><td>132</td><td>218</td></tr>\n",
       "\t<tr><td>⋮</td><td>⋮</td><td>⋮</td><td>⋮</td></tr>\n",
       "\t<tr><td>54</td><td>1</td><td>127</td><td>333</td></tr>\n",
       "\t<tr><td>55</td><td>1</td><td>122</td><td>223</td></tr>\n",
       "\t<tr><td>62</td><td>2</td><td>120</td><td>254</td></tr>\n",
       "</tbody>\n",
       "</table>\n"
      ],
      "text/latex": [
       "A tibble: 105 × 4\n",
       "\\begin{tabular}{llll}\n",
       " age & restecg & trestbps & chol\\\\\n",
       " <fct> & <dbl> & <dbl> & <dbl>\\\\\n",
       "\\hline\n",
       "\t 63 & 1 & 140 & 260\\\\\n",
       "\t 44 & 1 & 130 & 209\\\\\n",
       "\t 60 & 1 & 132 & 218\\\\\n",
       "\t ⋮ & ⋮ & ⋮ & ⋮\\\\\n",
       "\t 54 & 1 & 127 & 333\\\\\n",
       "\t 55 & 1 & 122 & 223\\\\\n",
       "\t 62 & 2 & 120 & 254\\\\\n",
       "\\end{tabular}\n"
      ],
      "text/markdown": [
       "\n",
       "A tibble: 105 × 4\n",
       "\n",
       "| age &lt;fct&gt; | restecg &lt;dbl&gt; | trestbps &lt;dbl&gt; | chol &lt;dbl&gt; |\n",
       "|---|---|---|---|\n",
       "| 63 | 1 | 140 | 260 |\n",
       "| 44 | 1 | 130 | 209 |\n",
       "| 60 | 1 | 132 | 218 |\n",
       "| ⋮ | ⋮ | ⋮ | ⋮ |\n",
       "| 54 | 1 | 127 | 333 |\n",
       "| 55 | 1 | 122 | 223 |\n",
       "| 62 | 2 | 120 | 254 |\n",
       "\n"
      ],
      "text/plain": [
       "    age restecg trestbps chol\n",
       "1   63  1       140      260 \n",
       "2   44  1       130      209 \n",
       "3   60  1       132      218 \n",
       "⋮   ⋮   ⋮       ⋮        ⋮   \n",
       "103 54  1       127      333 \n",
       "104 55  1       122      223 \n",
       "105 62  2       120      254 "
      ]
     },
     "metadata": {},
     "output_type": "display_data"
    },
    {
     "name": "stdout",
     "output_type": "stream",
     "text": [
      "[1] \"van_test\"\n"
     ]
    },
    {
     "data": {
      "text/html": [
       "<table class=\"dataframe\">\n",
       "<caption>A tibble: 35 × 4</caption>\n",
       "<thead>\n",
       "\t<tr><th scope=col>age</th><th scope=col>restecg</th><th scope=col>trestbps</th><th scope=col>chol</th></tr>\n",
       "\t<tr><th scope=col>&lt;fct&gt;</th><th scope=col>&lt;dbl&gt;</th><th scope=col>&lt;dbl&gt;</th><th scope=col>&lt;dbl&gt;</th></tr>\n",
       "</thead>\n",
       "<tbody>\n",
       "\t<tr><td>60</td><td>1</td><td>160</td><td>267</td></tr>\n",
       "\t<tr><td>56</td><td>1</td><td>126</td><td>166</td></tr>\n",
       "\t<tr><td>63</td><td>0</td><td>170</td><td>177</td></tr>\n",
       "\t<tr><td>⋮</td><td>⋮</td><td>⋮</td><td>⋮</td></tr>\n",
       "\t<tr><td>58</td><td>2</td><td>160</td><td>256</td></tr>\n",
       "\t<tr><td>60</td><td>2</td><td>130</td><td>186</td></tr>\n",
       "\t<tr><td>46</td><td>0</td><td>134</td><td>310</td></tr>\n",
       "</tbody>\n",
       "</table>\n"
      ],
      "text/latex": [
       "A tibble: 35 × 4\n",
       "\\begin{tabular}{llll}\n",
       " age & restecg & trestbps & chol\\\\\n",
       " <fct> & <dbl> & <dbl> & <dbl>\\\\\n",
       "\\hline\n",
       "\t 60 & 1 & 160 & 267\\\\\n",
       "\t 56 & 1 & 126 & 166\\\\\n",
       "\t 63 & 0 & 170 & 177\\\\\n",
       "\t ⋮ & ⋮ & ⋮ & ⋮\\\\\n",
       "\t 58 & 2 & 160 & 256\\\\\n",
       "\t 60 & 2 & 130 & 186\\\\\n",
       "\t 46 & 0 & 134 & 310\\\\\n",
       "\\end{tabular}\n"
      ],
      "text/markdown": [
       "\n",
       "A tibble: 35 × 4\n",
       "\n",
       "| age &lt;fct&gt; | restecg &lt;dbl&gt; | trestbps &lt;dbl&gt; | chol &lt;dbl&gt; |\n",
       "|---|---|---|---|\n",
       "| 60 | 1 | 160 | 267 |\n",
       "| 56 | 1 | 126 | 166 |\n",
       "| 63 | 0 | 170 | 177 |\n",
       "| ⋮ | ⋮ | ⋮ | ⋮ |\n",
       "| 58 | 2 | 160 | 256 |\n",
       "| 60 | 2 | 130 | 186 |\n",
       "| 46 | 0 | 134 | 310 |\n",
       "\n"
      ],
      "text/plain": [
       "   age restecg trestbps chol\n",
       "1  60  1       160      267 \n",
       "2  56  1       126      166 \n",
       "3  63  0       170      177 \n",
       "⋮  ⋮   ⋮       ⋮        ⋮   \n",
       "33 58  2       160      256 \n",
       "34 60  2       130      186 \n",
       "35 46  0       134      310 "
      ]
     },
     "metadata": {},
     "output_type": "display_data"
    },
    {
     "name": "stdout",
     "output_type": "stream",
     "text": [
      "[1] \"van_recipe\"\n"
     ]
    },
    {
     "data": {
      "text/plain": [
       "Recipe\n",
       "\n",
       "Inputs:\n",
       "\n",
       "      role #variables\n",
       "   outcome          1\n",
       " predictor          3\n",
       "\n",
       "Operations:\n",
       "\n",
       "Scaling for all_predictors()\n",
       "Centering for all_predictors()"
      ]
     },
     "metadata": {},
     "output_type": "display_data"
    }
   ],
   "source": [
    "van_data <- van_data %>%\n",
    "        mutate(age = as_factor(age)) %>%\n",
    "        mutate(chol = as.numeric(chol)) %>%\n",
    "        mutate(restecg = as.numeric(restecg)) %>%\n",
    "        mutate(trestbps = as.numeric(trestbps))\n",
    "\n",
    "van_split <- initial_split(van_data, prop = 0.75 , strata = age)  \n",
    "van_train <- training(van_split)   \n",
    "van_test <- testing(van_split)\n",
    "\n",
    "\n",
    "print(\"van_train\")\n",
    "van_train\n",
    "print(\"van_test\")\n",
    "van_test\n",
    "\n",
    "van_recipe <- recipe(age ~., data = van_train) |>\n",
    "    step_scale(all_predictors()) |>\n",
    "    step_center(all_predictors())\n",
    "\n",
    "print(\"van_recipe\")\n",
    "van_recipe\n",
    "\n",
    "knn_spec <- nearest_neighbor(weight_func = \"rectangular\", neighbors = 5) %>%\n",
    "      set_engine(\"kknn\") %>%\n",
    "      set_mode(\"classification\")\n",
    "\n",
    "van_fit <- workflow() %>%\n",
    "         add_recipe(van_recipe) %>%\n",
    "         add_model(knn_spec) %>%\n",
    "         fit(data = van_train)"
   ]
  },
  {
   "cell_type": "code",
   "execution_count": 23,
   "id": "b4e2e552-a37f-4be3-91d5-74936ba96c42",
   "metadata": {},
   "outputs": [
    {
     "name": "stdout",
     "output_type": "stream",
     "text": [
      "[1] \"van_test_predictions\"\n"
     ]
    },
    {
     "data": {
      "text/html": [
       "<table class=\"dataframe\">\n",
       "<caption>A tibble: 35 × 5</caption>\n",
       "<thead>\n",
       "\t<tr><th scope=col>.pred_class</th><th scope=col>age</th><th scope=col>restecg</th><th scope=col>trestbps</th><th scope=col>chol</th></tr>\n",
       "\t<tr><th scope=col>&lt;fct&gt;</th><th scope=col>&lt;fct&gt;</th><th scope=col>&lt;dbl&gt;</th><th scope=col>&lt;dbl&gt;</th><th scope=col>&lt;dbl&gt;</th></tr>\n",
       "</thead>\n",
       "<tbody>\n",
       "\t<tr><td>63</td><td>60</td><td>1</td><td>160</td><td>267</td></tr>\n",
       "\t<tr><td>77</td><td>56</td><td>1</td><td>126</td><td>166</td></tr>\n",
       "\t<tr><td>55</td><td>63</td><td>0</td><td>170</td><td>177</td></tr>\n",
       "\t<tr><td>⋮</td><td>⋮</td><td>⋮</td><td>⋮</td><td>⋮</td></tr>\n",
       "\t<tr><td>50</td><td>58</td><td>2</td><td>160</td><td>256</td></tr>\n",
       "\t<tr><td>62</td><td>60</td><td>2</td><td>130</td><td>186</td></tr>\n",
       "\t<tr><td>62</td><td>46</td><td>0</td><td>134</td><td>310</td></tr>\n",
       "</tbody>\n",
       "</table>\n"
      ],
      "text/latex": [
       "A tibble: 35 × 5\n",
       "\\begin{tabular}{lllll}\n",
       " .pred\\_class & age & restecg & trestbps & chol\\\\\n",
       " <fct> & <fct> & <dbl> & <dbl> & <dbl>\\\\\n",
       "\\hline\n",
       "\t 63 & 60 & 1 & 160 & 267\\\\\n",
       "\t 77 & 56 & 1 & 126 & 166\\\\\n",
       "\t 55 & 63 & 0 & 170 & 177\\\\\n",
       "\t ⋮ & ⋮ & ⋮ & ⋮ & ⋮\\\\\n",
       "\t 50 & 58 & 2 & 160 & 256\\\\\n",
       "\t 62 & 60 & 2 & 130 & 186\\\\\n",
       "\t 62 & 46 & 0 & 134 & 310\\\\\n",
       "\\end{tabular}\n"
      ],
      "text/markdown": [
       "\n",
       "A tibble: 35 × 5\n",
       "\n",
       "| .pred_class &lt;fct&gt; | age &lt;fct&gt; | restecg &lt;dbl&gt; | trestbps &lt;dbl&gt; | chol &lt;dbl&gt; |\n",
       "|---|---|---|---|---|\n",
       "| 63 | 60 | 1 | 160 | 267 |\n",
       "| 77 | 56 | 1 | 126 | 166 |\n",
       "| 55 | 63 | 0 | 170 | 177 |\n",
       "| ⋮ | ⋮ | ⋮ | ⋮ | ⋮ |\n",
       "| 50 | 58 | 2 | 160 | 256 |\n",
       "| 62 | 60 | 2 | 130 | 186 |\n",
       "| 62 | 46 | 0 | 134 | 310 |\n",
       "\n"
      ],
      "text/plain": [
       "   .pred_class age restecg trestbps chol\n",
       "1  63          60  1       160      267 \n",
       "2  77          56  1       126      166 \n",
       "3  55          63  0       170      177 \n",
       "⋮  ⋮           ⋮   ⋮       ⋮        ⋮   \n",
       "33 50          58  2       160      256 \n",
       "34 62          60  2       130      186 \n",
       "35 62          46  0       134      310 "
      ]
     },
     "metadata": {},
     "output_type": "display_data"
    },
    {
     "name": "stdout",
     "output_type": "stream",
     "text": [
      "[1] \"van_prediction_accuracy\"\n"
     ]
    },
    {
     "data": {
      "text/html": [
       "<table class=\"dataframe\">\n",
       "<caption>A tibble: 2 × 3</caption>\n",
       "<thead>\n",
       "\t<tr><th scope=col>.metric</th><th scope=col>.estimator</th><th scope=col>.estimate</th></tr>\n",
       "\t<tr><th scope=col>&lt;chr&gt;</th><th scope=col>&lt;chr&gt;</th><th scope=col>&lt;dbl&gt;</th></tr>\n",
       "</thead>\n",
       "<tbody>\n",
       "\t<tr><td>accuracy</td><td>multiclass</td><td> 0.028571429</td></tr>\n",
       "\t<tr><td>kap     </td><td>multiclass</td><td>-0.008474576</td></tr>\n",
       "</tbody>\n",
       "</table>\n"
      ],
      "text/latex": [
       "A tibble: 2 × 3\n",
       "\\begin{tabular}{lll}\n",
       " .metric & .estimator & .estimate\\\\\n",
       " <chr> & <chr> & <dbl>\\\\\n",
       "\\hline\n",
       "\t accuracy & multiclass &  0.028571429\\\\\n",
       "\t kap      & multiclass & -0.008474576\\\\\n",
       "\\end{tabular}\n"
      ],
      "text/markdown": [
       "\n",
       "A tibble: 2 × 3\n",
       "\n",
       "| .metric &lt;chr&gt; | .estimator &lt;chr&gt; | .estimate &lt;dbl&gt; |\n",
       "|---|---|---|\n",
       "| accuracy | multiclass |  0.028571429 |\n",
       "| kap      | multiclass | -0.008474576 |\n",
       "\n"
      ],
      "text/plain": [
       "  .metric  .estimator .estimate   \n",
       "1 accuracy multiclass  0.028571429\n",
       "2 kap      multiclass -0.008474576"
      ]
     },
     "metadata": {},
     "output_type": "display_data"
    }
   ],
   "source": [
    "van_test_predictions <- predict(van_fit, van_test) %>%\n",
    "bind_cols(van_test)\n",
    "\n",
    "print(\"van_test_predictions\")\n",
    "van_test_predictions\n",
    "\n",
    "\n",
    "van_prediction_accuracy <- van_test_predictions |>\n",
    "         metrics(truth = age, estimate = .pred_class)\n",
    "\n",
    "print(\"van_prediction_accuracy\")\n",
    "van_prediction_accuracy"
   ]
  },
  {
   "cell_type": "markdown",
   "id": "f3bda9ac",
   "metadata": {},
   "source": [
    "## Methods"
   ]
  },
  {
   "cell_type": "markdown",
   "id": "05aa6455",
   "metadata": {},
   "source": [
    "With the following variables, we will create a KNN Classification model to predict age.\n",
    "- Resting Electrocardiographic Results\n",
    "- Cholesterol Levels\n",
    "- Resting Blood Pressure\n",
    "\n",
    "The KNN classification model will need to be trained, evaluated, and tuned with both training and testing sets before we are able to predict the age of a new patient. We will need to break up the data into different age groups, and compare these with each of the predictor variables. In addition, we can test our model with the other datasets provided, as they contain the same variables, but are from different locations. We will need to merge these other datasets in in order to properly complete a cross validation."
   ]
  },
  {
   "cell_type": "markdown",
   "id": "5766ce8b",
   "metadata": {},
   "source": [
    "## Expected Outcome and Significance"
   ]
  },
  {
   "cell_type": "markdown",
   "id": "7e511fc3",
   "metadata": {},
   "source": [
    "We expect to see a positive correlation between the age of an individual, and the severity of their symptoms. As people age, they can become affected by disease and other ailments more easily. Conversely, lower age groups will experience less severe symptoms."
   ]
  },
  {
   "cell_type": "markdown",
   "id": "432648a3",
   "metadata": {},
   "source": [
    "Understanding the relationship between age and symptoms could help medical professionals understand what to look for in a given patient. Additionally, it can help provide information as to when an individual should seek out more frequent check-ups."
   ]
  },
  {
   "cell_type": "markdown",
   "id": "89f7077c",
   "metadata": {},
   "source": [
    "The analysis could also prompt further questions:\n",
    "- What are the risk factors of heart disease?\n",
    "- What are early signs of heart disease in a young invdividual? In an old individual?\n"
   ]
  }
 ],
 "metadata": {
  "kernelspec": {
   "display_name": "R",
   "language": "R",
   "name": "ir"
  },
  "language_info": {
   "codemirror_mode": "r",
   "file_extension": ".r",
   "mimetype": "text/x-r-source",
   "name": "R",
   "pygments_lexer": "r",
   "version": "4.1.3"
  }
 },
 "nbformat": 4,
 "nbformat_minor": 5
}
