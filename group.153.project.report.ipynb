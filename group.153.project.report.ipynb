{
 "cells": [
  {
   "cell_type": "code",
   "execution_count": 12,
   "id": "c015b06d-c48f-40ce-b550-0ae2db270f21",
   "metadata": {},
   "outputs": [],
   "source": [
    "### Run this cell before continuing.\n",
    "library(tidyverse)\n",
    "library(repr)\n",
    "library(tidymodels)\n",
    "options(repr.matrix.max.rows = 6)"
   ]
  },
  {
   "cell_type": "markdown",
   "id": "58a452c0-56c2-45da-8aa2-dec97cb5b590",
   "metadata": {},
   "source": [
    "# Heart Disease and Age\n",
    "<img align=\"left\" src=\"https://img.webmd.com/dtmcms/live/webmd/consumer_assets/site_images/article_thumbnails/slideshows/how_heart_disease_affects_your_body_slideshow/650x350_how_heart_disease_affects_your_body_slideshow.jpg\" width=\"500\"/>"
   ]
  },
  {
   "cell_type": "markdown",
   "id": "236da62f-b771-4223-b080-dfb69e9d5a7a",
   "metadata": {},
   "source": [
    "## Introduction"
   ]
  },
  {
   "cell_type": "markdown",
   "id": "2ff354ef-0098-4f82-b4fd-82a3d6910798",
   "metadata": {},
   "source": [
    "**Background Information**\n",
    "\n",
    "Heart disease is a broad range of diseases that affects an individual's heart and blood vessels.\n",
    "\n",
    "These diseases can be influenced by many factors, including underlying health conditions and lifestyle choices.\n"
   ]
  },
  {
   "cell_type": "markdown",
   "id": "64dcf75e-4b44-47dc-a0e5-017e72160e0e",
   "metadata": {},
   "source": [
    "**Our Question**\n",
    "\n",
    "Can the age of an individual with heart disease be predicted by the severity of their symptoms? If so, what are the best predictors? "
   ]
  },
  {
   "cell_type": "markdown",
   "id": "9db43f3a-0688-41a0-91a2-7e4ce3fd8b69",
   "metadata": {},
   "source": [
    "**The Dataset** \n",
    "\n",
    "We are using the “Heart Disease” dataset. This dataset describes a range of attributes, as well as an indication as to the presence of heart disease within each individual. The specific datasets we will be analyzing contains a subset of 14 main attributes, including information about a patient’s sex, age, symptoms, and diagnosis. The data has been collected in a variety of countries.\n",
    "\n",
    "https://archive.ics.uci.edu/ml/datasets/Heart+Disease"
   ]
  },
  {
   "cell_type": "markdown",
   "id": "21ec9a37-25c9-493a-a054-3b1ea40eb77a",
   "metadata": {},
   "source": [
    "# Methods"
   ]
  },
  {
   "cell_type": "code",
   "execution_count": 56,
   "id": "7b6cfb40-d5b0-492b-afb8-2d21a68603ad",
   "metadata": {},
   "outputs": [
    {
     "name": "stderr",
     "output_type": "stream",
     "text": [
      "\u001b[1mRows: \u001b[22m\u001b[34m200\u001b[39m \u001b[1mColumns: \u001b[22m\u001b[34m14\u001b[39m\n",
      "\u001b[36m──\u001b[39m \u001b[1mColumn specification\u001b[22m \u001b[36m────────────────────────────────────────────────────────\u001b[39m\n",
      "\u001b[1mDelimiter:\u001b[22m \",\"\n",
      "\u001b[31mchr\u001b[39m (9): trestbps, chol, fbs, thalach, exang, oldpeak, slope, ca, thal\n",
      "\u001b[32mdbl\u001b[39m (5): age, sex, chest_pain, restecg, num\n",
      "\n",
      "\u001b[36mℹ\u001b[39m Use `spec()` to retrieve the full column specification for this data.\n",
      "\u001b[36mℹ\u001b[39m Specify the column types or set `show_col_types = FALSE` to quiet this message.\n",
      "\u001b[1mRows: \u001b[22m\u001b[34m303\u001b[39m \u001b[1mColumns: \u001b[22m\u001b[34m14\u001b[39m\n",
      "\u001b[36m──\u001b[39m \u001b[1mColumn specification\u001b[22m \u001b[36m────────────────────────────────────────────────────────\u001b[39m\n",
      "\u001b[1mDelimiter:\u001b[22m \",\"\n",
      "\u001b[31mchr\u001b[39m  (2): ca, thal\n",
      "\u001b[32mdbl\u001b[39m (12): age, sex, chest_pain, trestbps, chol, fbs, restecg, thalach, exang...\n",
      "\n",
      "\u001b[36mℹ\u001b[39m Use `spec()` to retrieve the full column specification for this data.\n",
      "\u001b[36mℹ\u001b[39m Specify the column types or set `show_col_types = FALSE` to quiet this message.\n",
      "\u001b[1mRows: \u001b[22m\u001b[34m294\u001b[39m \u001b[1mColumns: \u001b[22m\u001b[34m14\u001b[39m\n",
      "\u001b[36m──\u001b[39m \u001b[1mColumn specification\u001b[22m \u001b[36m────────────────────────────────────────────────────────\u001b[39m\n",
      "\u001b[1mDelimiter:\u001b[22m \",\"\n",
      "\u001b[31mchr\u001b[39m (9): trestbps, chol, fbs, restecg, thalach, exang, slope, ca, thal\n",
      "\u001b[32mdbl\u001b[39m (5): age, sex, chest_pain, oldpeak, num\n",
      "\n",
      "\u001b[36mℹ\u001b[39m Use `spec()` to retrieve the full column specification for this data.\n",
      "\u001b[36mℹ\u001b[39m Specify the column types or set `show_col_types = FALSE` to quiet this message.\n",
      "\u001b[1mRows: \u001b[22m\u001b[34m123\u001b[39m \u001b[1mColumns: \u001b[22m\u001b[34m14\u001b[39m\n",
      "\u001b[36m──\u001b[39m \u001b[1mColumn specification\u001b[22m \u001b[36m────────────────────────────────────────────────────────\u001b[39m\n",
      "\u001b[1mDelimiter:\u001b[22m \",\"\n",
      "\u001b[31mchr\u001b[39m (9): trestbps, fbs, restecg, thalach, exang, oldpeak, slope, ca, thal\n",
      "\u001b[32mdbl\u001b[39m (5): age, sex, chest_pain, chol, num\n",
      "\n",
      "\u001b[36mℹ\u001b[39m Use `spec()` to retrieve the full column specification for this data.\n",
      "\u001b[36mℹ\u001b[39m Specify the column types or set `show_col_types = FALSE` to quiet this message.\n"
     ]
    },
    {
     "data": {
      "text/html": [
       "<table class=\"dataframe\">\n",
       "<caption>A tibble: 832 × 4</caption>\n",
       "<thead>\n",
       "\t<tr><th scope=col>restecg</th><th scope=col>chol</th><th scope=col>age</th><th scope=col>trestbps</th></tr>\n",
       "\t<tr><th scope=col>&lt;chr&gt;</th><th scope=col>&lt;chr&gt;</th><th scope=col>&lt;dbl&gt;</th><th scope=col>&lt;chr&gt;</th></tr>\n",
       "</thead>\n",
       "<tbody>\n",
       "\t<tr><td>1</td><td>260</td><td>63</td><td>140</td></tr>\n",
       "\t<tr><td>1</td><td>209</td><td>44</td><td>130</td></tr>\n",
       "\t<tr><td>1</td><td>218</td><td>60</td><td>132</td></tr>\n",
       "\t<tr><td>⋮</td><td>⋮</td><td>⋮</td><td>⋮</td></tr>\n",
       "\t<tr><td>2</td><td>0</td><td>72</td><td>160</td></tr>\n",
       "\t<tr><td>1</td><td>0</td><td>73</td><td>160</td></tr>\n",
       "\t<tr><td>1</td><td>0</td><td>74</td><td>145</td></tr>\n",
       "</tbody>\n",
       "</table>\n"
      ],
      "text/latex": [
       "A tibble: 832 × 4\n",
       "\\begin{tabular}{llll}\n",
       " restecg & chol & age & trestbps\\\\\n",
       " <chr> & <chr> & <dbl> & <chr>\\\\\n",
       "\\hline\n",
       "\t 1 & 260 & 63 & 140\\\\\n",
       "\t 1 & 209 & 44 & 130\\\\\n",
       "\t 1 & 218 & 60 & 132\\\\\n",
       "\t ⋮ & ⋮ & ⋮ & ⋮\\\\\n",
       "\t 2 & 0 & 72 & 160\\\\\n",
       "\t 1 & 0 & 73 & 160\\\\\n",
       "\t 1 & 0 & 74 & 145\\\\\n",
       "\\end{tabular}\n"
      ],
      "text/markdown": [
       "\n",
       "A tibble: 832 × 4\n",
       "\n",
       "| restecg &lt;chr&gt; | chol &lt;chr&gt; | age &lt;dbl&gt; | trestbps &lt;chr&gt; |\n",
       "|---|---|---|---|\n",
       "| 1 | 260 | 63 | 140 |\n",
       "| 1 | 209 | 44 | 130 |\n",
       "| 1 | 218 | 60 | 132 |\n",
       "| ⋮ | ⋮ | ⋮ | ⋮ |\n",
       "| 2 | 0 | 72 | 160 |\n",
       "| 1 | 0 | 73 | 160 |\n",
       "| 1 | 0 | 74 | 145 |\n",
       "\n"
      ],
      "text/plain": [
       "    restecg chol age trestbps\n",
       "1   1       260  63  140     \n",
       "2   1       209  44  130     \n",
       "3   1       218  60  132     \n",
       "⋮   ⋮       ⋮    ⋮   ⋮       \n",
       "830 2       0    72  160     \n",
       "831 1       0    73  160     \n",
       "832 1       0    74  145     "
      ]
     },
     "metadata": {},
     "output_type": "display_data"
    }
   ],
   "source": [
    "# First we must read in the datasets.\n",
    "van_data_csv <- read_csv(\"https://archive.ics.uci.edu/ml/machine-learning-databases/heart-disease/processed.va.data\",col_names =\n",
    "               c(\"age\", \"sex\", \"chest_pain\", \"trestbps\", \"chol\",\n",
    "               \"fbs\",  \"restecg\", \"thalach\", \"exang\", \"oldpeak\", \n",
    "               \"slope\", \"ca\", \"thal\", \"num\")) %>%\n",
    "                filter(restecg != \"?\") %>%\n",
    "                filter(chol != \"?\") %>%\n",
    "                filter(trestbps != \"?\")\n",
    "\n",
    "cleveland_data_csv <- read_csv(\"https://archive.ics.uci.edu/ml/machine-learning-databases/heart-disease/processed.cleveland.data\", col_names =\n",
    "               c(\"age\", \"sex\", \"chest_pain\", \"trestbps\", \"chol\",\n",
    "               \"fbs\",  \"restecg\", \"thalach\", \"exang\", \"oldpeak\", \n",
    "               \"slope\", \"ca\", \"thal\", \"num\")) %>%\n",
    "                filter(restecg != \"?\") %>%\n",
    "                filter(chol != \"?\") %>%\n",
    "                filter(trestbps != \"?\")\n",
    "\n",
    "hungary_data_csv <- read_csv(\"https://archive.ics.uci.edu/ml/machine-learning-databases/heart-disease/processed.hungarian.data\", col_names =\n",
    "               c(\"age\", \"sex\", \"chest_pain\", \"trestbps\", \"chol\",\n",
    "               \"fbs\",  \"restecg\", \"thalach\", \"exang\", \"oldpeak\", \n",
    "               \"slope\", \"ca\", \"thal\", \"num\")) %>%\n",
    "                filter(restecg != \"?\") %>%\n",
    "                filter(chol != \"?\") %>%\n",
    "                filter(trestbps != \"?\")\n",
    "\n",
    "switzerland_data_csv <- read_csv(\"https://archive.ics.uci.edu/ml/machine-learning-databases/heart-disease/processed.switzerland.data\", col_names =\n",
    "               c(\"age\", \"sex\", \"chest_pain\", \"trestbps\", \"chol\",\n",
    "               \"fbs\",  \"restecg\", \"thalach\", \"exang\", \"oldpeak\", \n",
    "               \"slope\", \"ca\", \"thal\", \"num\")) %>%\n",
    "                filter(restecg != \"?\") %>%\n",
    "                filter(chol != \"?\") %>%\n",
    "                filter(trestbps != \"?\")\n",
    "\n",
    "#Next, we can merge these, as they all have the same predictors. More data can ensure our analysis is more accurate.\n",
    "heart_disease_data <- rbind(van_data_csv,cleveland_data_csv,hungary_data_csv, switzerland_data_csv) %>%\n",
    "                select(restecg, chol, age, trestbps)\n",
    "heart_disease_data"
   ]
  },
  {
   "cell_type": "markdown",
   "id": "75a9b47f-f060-44ab-bdd9-7085722d3902",
   "metadata": {},
   "source": [
    "**Exploratory Data Analysis**"
   ]
  },
  {
   "cell_type": "code",
   "execution_count": 57,
   "id": "648916c8-cefd-4f55-b998-a1160ae8c25c",
   "metadata": {},
   "outputs": [
    {
     "data": {
      "text/html": [
       "<table class=\"dataframe\">\n",
       "<caption>A tibble: 6 × 4</caption>\n",
       "<thead>\n",
       "\t<tr><th scope=col>age</th><th scope=col>restecg</th><th scope=col>trestbps</th><th scope=col>chol</th></tr>\n",
       "\t<tr><th scope=col>&lt;dbl&gt;</th><th scope=col>&lt;chr&gt;</th><th scope=col>&lt;chr&gt;</th><th scope=col>&lt;chr&gt;</th></tr>\n",
       "</thead>\n",
       "<tbody>\n",
       "\t<tr><td>56</td><td>0</td><td>120</td><td>85 </td></tr>\n",
       "\t<tr><td>54</td><td>0</td><td>130</td><td>603</td></tr>\n",
       "\t<tr><td>67</td><td>2</td><td>115</td><td>564</td></tr>\n",
       "\t<tr><td>32</td><td>0</td><td>118</td><td>529</td></tr>\n",
       "\t<tr><td>53</td><td>0</td><td>145</td><td>518</td></tr>\n",
       "\t<tr><td>44</td><td>0</td><td>135</td><td>491</td></tr>\n",
       "</tbody>\n",
       "</table>\n"
      ],
      "text/latex": [
       "A tibble: 6 × 4\n",
       "\\begin{tabular}{llll}\n",
       " age & restecg & trestbps & chol\\\\\n",
       " <dbl> & <chr> & <chr> & <chr>\\\\\n",
       "\\hline\n",
       "\t 56 & 0 & 120 & 85 \\\\\n",
       "\t 54 & 0 & 130 & 603\\\\\n",
       "\t 67 & 2 & 115 & 564\\\\\n",
       "\t 32 & 0 & 118 & 529\\\\\n",
       "\t 53 & 0 & 145 & 518\\\\\n",
       "\t 44 & 0 & 135 & 491\\\\\n",
       "\\end{tabular}\n"
      ],
      "text/markdown": [
       "\n",
       "A tibble: 6 × 4\n",
       "\n",
       "| age &lt;dbl&gt; | restecg &lt;chr&gt; | trestbps &lt;chr&gt; | chol &lt;chr&gt; |\n",
       "|---|---|---|---|\n",
       "| 56 | 0 | 120 | 85  |\n",
       "| 54 | 0 | 130 | 603 |\n",
       "| 67 | 2 | 115 | 564 |\n",
       "| 32 | 0 | 118 | 529 |\n",
       "| 53 | 0 | 145 | 518 |\n",
       "| 44 | 0 | 135 | 491 |\n",
       "\n"
      ],
      "text/plain": [
       "  age restecg trestbps chol\n",
       "1 56  0       120      85  \n",
       "2 54  0       130      603 \n",
       "3 67  2       115      564 \n",
       "4 32  0       118      529 \n",
       "5 53  0       145      518 \n",
       "6 44  0       135      491 "
      ]
     },
     "metadata": {},
     "output_type": "display_data"
    }
   ],
   "source": [
    "#in order to make the analysis reproducible:\n",
    "set.seed(2000)\n",
    "\n",
    "#split the data into testing and training set:  \n",
    "heart_split <- initial_split(heart_disease_data, prop = 0.75, strata = age) \n",
    "heart_train <- training(heart_split)  \n",
    "heart_test <- testing(heart_split)  \n",
    "\n",
    "#In our exploratory data analysis, we used only three variables as predictors.\n",
    "heart_data_high <- heart_train %>%\n",
    "             select(age, restecg, trestbps, chol) %>%\n",
    "             arrange(desc(chol))\n",
    "\n",
    "\n",
    "head(heart_data_explore)"
   ]
  },
  {
   "cell_type": "markdown",
   "id": "48b7bb1a-e7bb-4935-8c19-f27679e9fe9d",
   "metadata": {},
   "source": [
    "This table shows that individuals with higher cholesterol levels tend to fall within an older age range (50 +)"
   ]
  },
  {
   "cell_type": "code",
   "execution_count": 58,
   "id": "7f965ab8-ae83-4326-ade7-3241ddd21023",
   "metadata": {},
   "outputs": [
    {
     "name": "stderr",
     "output_type": "stream",
     "text": [
      "`stat_bin()` using `bins = 30`. Pick better value with `binwidth`.\n",
      "\n"
     ]
    },
    {
     "data": {
      "image/png": "[encoded data removed]",
      "text/plain": [
       "plot without title"
      ]
     },
     "metadata": {
      "image/png": {
       "height": 420,
       "width": 420
      }
     },
     "output_type": "display_data"
    }
   ],
   "source": [
    "#In order to visualize the age distribution:\n",
    "heart_plot_hist <- ggplot(heart_train, aes(x = age)) + \n",
    "            geom_histogram() + \n",
    "            labs(x = \"Age (years)\", title = \"Number of People With Heart Disease\") + \n",
    "            theme( text = element_text(size = 20)) \n",
    "heart_plot_hist"
   ]
  },
  {
   "cell_type": "markdown",
   "id": "99b70559-a8b5-4741-9eb6-101b9ba3c005",
   "metadata": {},
   "source": [
    "Through this histogram, we can see a correlation between age, and the quantity of people that contract heart disease. The majority of those with heart disease are bewteen the ages of 55 and 65."
   ]
  },
  {
   "cell_type": "markdown",
   "id": "c8de0209-c35a-4aec-b70a-d5f55fc49548",
   "metadata": {},
   "source": [
    "**Data Analysis**"
   ]
  },
  {
   "cell_type": "markdown",
   "id": "dc935a0f-c365-4b3e-aca2-6afd92c8e5a0",
   "metadata": {},
   "source": [
    "In order to investigate our question we created a K-Nearest Neighbors model for a variety of predictor combinations, in order to determine which would produce the highest accuracy."
   ]
  },
  {
   "cell_type": "markdown",
   "id": "e2f3ac07-7eeb-42ab-9b92-3e8c1f6e7312",
   "metadata": {},
   "source": [
    "TO DO: \n",
    "- Integrate KNN model from proposal, produce other KNN models with different variables, tune and evaluate each model.\n",
    "- graph prediction accuracy, determine best predictors\n"
   ]
  },
  {
   "cell_type": "markdown",
   "id": "0c64d4ff-bfd1-4d39-8327-35345584bc94",
   "metadata": {},
   "source": [
    "# Discussion"
   ]
  },
  {
   "cell_type": "markdown",
   "id": "646a7cb1-bc87-4206-9d53-af7e5fc8cbf7",
   "metadata": {},
   "source": [
    "TO DO:\n",
    "- summarize findings. Is there a relationship? What is it? What are the best predictors?\n",
    "- Were our results expected?\n",
    "- Impact of our findings?\n",
    "- Future Questions?"
   ]
  },
  {
   "cell_type": "code",
   "execution_count": null,
   "id": "ee6478a9-7f8d-46ef-839c-cbb5a1234ca2",
   "metadata": {},
   "outputs": [],
   "source": []
  }
 ],
 "metadata": {
  "kernelspec": {
   "display_name": "R",
   "language": "R",
   "name": "ir"
  },
  "language_info": {
   "codemirror_mode": "r",
   "file_extension": ".r",
   "mimetype": "text/x-r-source",
   "name": "R",
   "pygments_lexer": "r",
   "version": "4.1.3"
  }
 },
 "nbformat": 4,
 "nbformat_minor": 5
}
