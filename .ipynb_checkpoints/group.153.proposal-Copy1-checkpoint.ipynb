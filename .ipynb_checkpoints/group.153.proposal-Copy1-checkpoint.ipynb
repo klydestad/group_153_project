{
 "cells": [
  {
   "cell_type": "code",
   "execution_count": 10,
   "id": "4b304079",
   "metadata": {},
   "outputs": [
    {
     "name": "stderr",
     "output_type": "stream",
     "text": [
      "── \u001b[1mAttaching packages\u001b[22m ─────────────────────────────────────── tidyverse 1.3.1 ──\n",
      "\n",
      "\u001b[32m✔\u001b[39m \u001b[34mggplot2\u001b[39m 3.3.6     \u001b[32m✔\u001b[39m \u001b[34mpurrr  \u001b[39m 0.3.4\n",
      "\u001b[32m✔\u001b[39m \u001b[34mtibble \u001b[39m 3.1.7     \u001b[32m✔\u001b[39m \u001b[34mdplyr  \u001b[39m 1.0.9\n",
      "\u001b[32m✔\u001b[39m \u001b[34mtidyr  \u001b[39m 1.2.0     \u001b[32m✔\u001b[39m \u001b[34mstringr\u001b[39m 1.4.0\n",
      "\u001b[32m✔\u001b[39m \u001b[34mreadr  \u001b[39m 2.1.2     \u001b[32m✔\u001b[39m \u001b[34mforcats\u001b[39m 0.5.1\n",
      "\n",
      "── \u001b[1mConflicts\u001b[22m ────────────────────────────────────────── tidyverse_conflicts() ──\n",
      "\u001b[31m✖\u001b[39m \u001b[34mdplyr\u001b[39m::\u001b[32mfilter()\u001b[39m masks \u001b[34mstats\u001b[39m::filter()\n",
      "\u001b[31m✖\u001b[39m \u001b[34mdplyr\u001b[39m::\u001b[32mlag()\u001b[39m    masks \u001b[34mstats\u001b[39m::lag()\n",
      "\n",
      "── \u001b[1mAttaching packages\u001b[22m ────────────────────────────────────── tidymodels 1.0.0 ──\n",
      "\n",
      "\u001b[32m✔\u001b[39m \u001b[34mbroom       \u001b[39m 1.0.0     \u001b[32m✔\u001b[39m \u001b[34mrsample     \u001b[39m 1.0.0\n",
      "\u001b[32m✔\u001b[39m \u001b[34mdials       \u001b[39m 1.0.0     \u001b[32m✔\u001b[39m \u001b[34mtune        \u001b[39m 1.0.0\n",
      "\u001b[32m✔\u001b[39m \u001b[34minfer       \u001b[39m 1.0.2     \u001b[32m✔\u001b[39m \u001b[34mworkflows   \u001b[39m 1.0.0\n",
      "\u001b[32m✔\u001b[39m \u001b[34mmodeldata   \u001b[39m 1.0.0     \u001b[32m✔\u001b[39m \u001b[34mworkflowsets\u001b[39m 1.0.0\n",
      "\u001b[32m✔\u001b[39m \u001b[34mparsnip     \u001b[39m 1.0.0     \u001b[32m✔\u001b[39m \u001b[34myardstick   \u001b[39m 1.0.0\n",
      "\u001b[32m✔\u001b[39m \u001b[34mrecipes     \u001b[39m 1.0.1     \n",
      "\n",
      "── \u001b[1mConflicts\u001b[22m ───────────────────────────────────────── tidymodels_conflicts() ──\n",
      "\u001b[31m✖\u001b[39m \u001b[34mscales\u001b[39m::\u001b[32mdiscard()\u001b[39m masks \u001b[34mpurrr\u001b[39m::discard()\n",
      "\u001b[31m✖\u001b[39m \u001b[34mdplyr\u001b[39m::\u001b[32mfilter()\u001b[39m   masks \u001b[34mstats\u001b[39m::filter()\n",
      "\u001b[31m✖\u001b[39m \u001b[34mrecipes\u001b[39m::\u001b[32mfixed()\u001b[39m  masks \u001b[34mstringr\u001b[39m::fixed()\n",
      "\u001b[31m✖\u001b[39m \u001b[34mdplyr\u001b[39m::\u001b[32mlag()\u001b[39m      masks \u001b[34mstats\u001b[39m::lag()\n",
      "\u001b[31m✖\u001b[39m \u001b[34myardstick\u001b[39m::\u001b[32mspec()\u001b[39m masks \u001b[34mreadr\u001b[39m::spec()\n",
      "\u001b[31m✖\u001b[39m \u001b[34mrecipes\u001b[39m::\u001b[32mstep()\u001b[39m   masks \u001b[34mstats\u001b[39m::step()\n",
      "\u001b[34m•\u001b[39m Dig deeper into tidy modeling with R at \u001b[32mhttps://www.tmwr.org\u001b[39m\n",
      "\n"
     ]
    }
   ],
   "source": [
    "### Run this cell before continuing.\n",
    "library(tidyverse)\n",
    "library(repr)\n",
    "library(tidymodels)\n",
    "options(repr.matrix.max.rows = 6)"
   ]
  },
  {
   "cell_type": "markdown",
   "id": "e52bb71e",
   "metadata": {},
   "source": [
    "# Heart Disease and Age\n",
    "<img align=\"left\" src=\"https://img.webmd.com/dtmcms/live/webmd/consumer_assets/site_images/article_thumbnails/slideshows/how_heart_disease_affects_your_body_slideshow/650x350_how_heart_disease_affects_your_body_slideshow.jpg\" width=\"500\"/>"
   ]
  },
  {
   "cell_type": "markdown",
   "id": "95ed64d5",
   "metadata": {
    "tags": []
   },
   "source": [
    "## Introduction"
   ]
  },
  {
   "cell_type": "markdown",
   "id": "a7628ece",
   "metadata": {},
   "source": [
    "**Background Information**\n",
    "\n",
    "Heart disease is a broad range of diseases that affects an individual's heart and blood vessels.\n",
    "\n",
    "These diseases can be influenced by many factors, including underlying health conditions and lifestyle choices.\n"
   ]
  },
  {
   "cell_type": "markdown",
   "id": "a66002b8",
   "metadata": {},
   "source": [
    "**Our Question**\n",
    "\n",
    "Can the age of an individual with heart disease be predicted by the severity of their symptoms?"
   ]
  },
  {
   "cell_type": "markdown",
   "id": "2957abae",
   "metadata": {},
   "source": [
    "**The Dataset** \n",
    "\n",
    "We are using the “Heart Disease” dataset. This dataset describes a range of attributes, as well as an indication as to the presence of heart disease within each individual. The specific datasets we will be analyzing contains a subset of 14 main attributes, including information about a patient’s sex, age, symptoms, and diagnosis.\n",
    "\n",
    "https://archive.ics.uci.edu/ml/datasets/Heart+Disease"
   ]
  },
  {
   "cell_type": "markdown",
   "id": "e54dc7fa",
   "metadata": {},
   "source": [
    "## Preliminary Exploratory Data Analysis"
   ]
  },
  {
   "cell_type": "code",
   "execution_count": 2,
   "id": "a2088e61",
   "metadata": {},
   "outputs": [
    {
     "name": "stderr",
     "output_type": "stream",
     "text": [
      "\u001b[1mRows: \u001b[22m\u001b[34m200\u001b[39m \u001b[1mColumns: \u001b[22m\u001b[34m14\u001b[39m\n",
      "\u001b[36m──\u001b[39m \u001b[1mColumn specification\u001b[22m \u001b[36m────────────────────────────────────────────────────────\u001b[39m\n",
      "\u001b[1mDelimiter:\u001b[22m \",\"\n",
      "\u001b[31mchr\u001b[39m (9): trestbps, chol, fbs, thalach, exang, oldpeak, slope, ca, thal\n",
      "\u001b[32mdbl\u001b[39m (5): age, sex, chest_pain, restecg, num\n",
      "\n",
      "\u001b[36mℹ\u001b[39m Use `spec()` to retrieve the full column specification for this data.\n",
      "\u001b[36mℹ\u001b[39m Specify the column types or set `show_col_types = FALSE` to quiet this message.\n"
     ]
    },
    {
     "data": {
      "text/html": [
       "<table class=\"dataframe\">\n",
       "<caption>A tibble: 6 × 4</caption>\n",
       "<thead>\n",
       "\t<tr><th scope=col>age</th><th scope=col>restecg</th><th scope=col>trestbps</th><th scope=col>chol</th></tr>\n",
       "\t<tr><th scope=col>&lt;dbl&gt;</th><th scope=col>&lt;dbl&gt;</th><th scope=col>&lt;chr&gt;</th><th scope=col>&lt;chr&gt;</th></tr>\n",
       "</thead>\n",
       "<tbody>\n",
       "\t<tr><td>63</td><td>1</td><td>140</td><td>260</td></tr>\n",
       "\t<tr><td>44</td><td>1</td><td>130</td><td>209</td></tr>\n",
       "\t<tr><td>60</td><td>1</td><td>132</td><td>218</td></tr>\n",
       "\t<tr><td>55</td><td>1</td><td>142</td><td>228</td></tr>\n",
       "\t<tr><td>66</td><td>2</td><td>110</td><td>213</td></tr>\n",
       "\t<tr><td>66</td><td>1</td><td>120</td><td>0  </td></tr>\n",
       "</tbody>\n",
       "</table>\n"
      ],
      "text/latex": [
       "A tibble: 6 × 4\n",
       "\\begin{tabular}{llll}\n",
       " age & restecg & trestbps & chol\\\\\n",
       " <dbl> & <dbl> & <chr> & <chr>\\\\\n",
       "\\hline\n",
       "\t 63 & 1 & 140 & 260\\\\\n",
       "\t 44 & 1 & 130 & 209\\\\\n",
       "\t 60 & 1 & 132 & 218\\\\\n",
       "\t 55 & 1 & 142 & 228\\\\\n",
       "\t 66 & 2 & 110 & 213\\\\\n",
       "\t 66 & 1 & 120 & 0  \\\\\n",
       "\\end{tabular}\n"
      ],
      "text/markdown": [
       "\n",
       "A tibble: 6 × 4\n",
       "\n",
       "| age &lt;dbl&gt; | restecg &lt;dbl&gt; | trestbps &lt;chr&gt; | chol &lt;chr&gt; |\n",
       "|---|---|---|---|\n",
       "| 63 | 1 | 140 | 260 |\n",
       "| 44 | 1 | 130 | 209 |\n",
       "| 60 | 1 | 132 | 218 |\n",
       "| 55 | 1 | 142 | 228 |\n",
       "| 66 | 2 | 110 | 213 |\n",
       "| 66 | 1 | 120 | 0   |\n",
       "\n"
      ],
      "text/plain": [
       "  age restecg trestbps chol\n",
       "1 63  1       140      260 \n",
       "2 44  1       130      209 \n",
       "3 60  1       132      218 \n",
       "4 55  1       142      228 \n",
       "5 66  2       110      213 \n",
       "6 66  1       120      0   "
      ]
     },
     "metadata": {},
     "output_type": "display_data"
    }
   ],
   "source": [
    "#The data can be read through the file as seen below\n",
    "van_data_csv <- read_csv(\"https://archive.ics.uci.edu/ml/machine-learning-databases/heart-disease/processed.va.data\", col_names =\n",
    "               c(\"age\", \"sex\", \"chest_pain\", \"trestbps\", \"chol\",\n",
    "               \"fbs\",  \"restecg\", \"thalach\", \"exang\", \"oldpeak\", \n",
    "               \"slope\", \"ca\", \"thal\", \"num\")) %>%\n",
    "                filter(!is.na(restecg)) %>%\n",
    "                filter(!is.na(chol)) %>%\n",
    "                filter(!is.na(trestbps))\n",
    "\n",
    "van_data <- van_data_csv %>%\n",
    "             select(age, restecg, trestbps, chol)\n",
    "\n",
    "head(van_data)\n"
   ]
  },
  {
   "cell_type": "code",
   "execution_count": 3,
   "id": "8aee7abd",
   "metadata": {},
   "outputs": [],
   "source": [
    "#insert initial graphs found from simply comparing age vs...\n",
    "#EXPLAIN SIGNIFICANCE \n"
   ]
  },
  {
   "cell_type": "code",
   "execution_count": 6,
   "id": "7fb40859",
   "metadata": {},
   "outputs": [
    {
     "name": "stderr",
     "output_type": "stream",
     "text": [
      "`stat_bin()` using `bins = 30`. Pick better value with `binwidth`.\n",
      "\n"
     ]
    },
    {
     "data": {
      "image/png": "[encoded data removed]",
      "text/plain": [
       "plot without title"
      ]
     },
     "metadata": {
      "image/png": {
       "height": 420,
       "width": 420
      }
     },
     "output_type": "display_data"
    }
   ],
   "source": [
    "van_split <- initial_split(van_data, prop = 0.75, strata = age) \n",
    "van_train <- training(van_split)  \n",
    "van_test <- testing(van_split)  \n",
    "\n",
    "van_plot_hist <- ggplot(van_train, aes(x = age)) + \n",
    "            geom_histogram() + \n",
    "            labs(x = \"Age (years)\", title = \"Number of People With Heart Disease\") + \n",
    "            theme( text = element_text(size = 20)) \n",
    "van_plot_hist\n",
    "#organize training set... perhaps calculate any averages or other such steps here? Could you maybe find average cholesterol per age group????\n",
    "#input preliminary knn classification system, analyze correlations if any."
   ]
  },
  {
   "cell_type": "markdown",
   "id": "4261fa6e-8419-435c-bb0e-0d8f148c4641",
   "metadata": {},
   "source": [
    "Through this histogram, we can see a correlation between age, and the quantity of people that contract heart disease. The majority of those with heart disease are bewteen the ages of 55 and 65."
   ]
  },
  {
   "cell_type": "code",
   "execution_count": null,
   "id": "3de0cad5-b68b-4da5-9fa8-b6376ad10b12",
   "metadata": {},
   "outputs": [],
   "source": []
  },
  {
   "cell_type": "markdown",
   "id": "e2921d34",
   "metadata": {},
   "source": [
    "## Methods"
   ]
  },
  {
   "cell_type": "markdown",
   "id": "fc676035",
   "metadata": {},
   "source": [
    "With the following variables, we will create a KNN Classification model to predict age.\n",
    "- Resting Electrocardiographic Results\n",
    "- Cholesterol Levels\n",
    "- Resting Blood Pressure\n",
    "\n",
    "The KNN classification model will need to be trained, evaluated, and tuned with both training and testing sets before we are able to predict the age of a new patient. We will need to break up the data into different age groups, and compare these with each of the predictor variables. In addition, we can test our model with the other datasets provided, as they contain the same variables, but are from different locations."
   ]
  },
  {
   "cell_type": "markdown",
   "id": "e5afda46",
   "metadata": {},
   "source": [
    "## Expected Outcome and Significance"
   ]
  },
  {
   "cell_type": "markdown",
   "id": "ce15bd29",
   "metadata": {},
   "source": [
    "We expect to see a positive correlation between the age of an individual, and the severity of their symptoms. As people age, they can become affected by disease and other ailments more easily. Conversely, lower age groups will experience less severe symptoms."
   ]
  },
  {
   "cell_type": "markdown",
   "id": "5a868eec",
   "metadata": {},
   "source": [
    "Understanding the relationship between age and symptoms could help medical professionals understand what to look for in a given patient. Additionally, it can help provide information as to when an individual should seek out more frequent check-ups."
   ]
  },
  {
   "cell_type": "markdown",
   "id": "0b8dff85",
   "metadata": {},
   "source": [
    "The analysis could also prompt further questions:\n",
    "- What are the risk factors of heart disease?\n",
    "- What are early signs of heart disease in a young invdividual? In an old individual.\n"
   ]
  }
 ],
 "metadata": {
  "kernelspec": {
   "display_name": "R",
   "language": "R",
   "name": "ir"
  },
  "language_info": {
   "codemirror_mode": "r",
   "file_extension": ".r",
   "mimetype": "text/x-r-source",
   "name": "R",
   "pygments_lexer": "r",
   "version": "4.1.3"
  }
 },
 "nbformat": 4,
 "nbformat_minor": 5
}
