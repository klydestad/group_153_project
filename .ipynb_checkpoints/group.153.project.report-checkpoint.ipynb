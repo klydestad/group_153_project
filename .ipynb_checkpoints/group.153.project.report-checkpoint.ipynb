{
 "cells": [
  {
   "cell_type": "code",
   "execution_count": 5,
   "id": "c015b06d-c48f-40ce-b550-0ae2db270f21",
   "metadata": {},
   "outputs": [
    {
     "name": "stderr",
     "output_type": "stream",
     "text": [
      "── \u001b[1mAttaching packages\u001b[22m ─────────────────────────────────────── tidyverse 1.3.1 ──\n",
      "\n",
      "\u001b[32m✔\u001b[39m \u001b[34mggplot2\u001b[39m 3.3.6     \u001b[32m✔\u001b[39m \u001b[34mpurrr  \u001b[39m 0.3.4\n",
      "\u001b[32m✔\u001b[39m \u001b[34mtibble \u001b[39m 3.1.7     \u001b[32m✔\u001b[39m \u001b[34mdplyr  \u001b[39m 1.0.9\n",
      "\u001b[32m✔\u001b[39m \u001b[34mtidyr  \u001b[39m 1.2.0     \u001b[32m✔\u001b[39m \u001b[34mstringr\u001b[39m 1.4.0\n",
      "\u001b[32m✔\u001b[39m \u001b[34mreadr  \u001b[39m 2.1.2     \u001b[32m✔\u001b[39m \u001b[34mforcats\u001b[39m 0.5.1\n",
      "\n",
      "── \u001b[1mConflicts\u001b[22m ────────────────────────────────────────── tidyverse_conflicts() ──\n",
      "\u001b[31m✖\u001b[39m \u001b[34mdplyr\u001b[39m::\u001b[32mfilter()\u001b[39m masks \u001b[34mstats\u001b[39m::filter()\n",
      "\u001b[31m✖\u001b[39m \u001b[34mdplyr\u001b[39m::\u001b[32mlag()\u001b[39m    masks \u001b[34mstats\u001b[39m::lag()\n",
      "\n",
      "── \u001b[1mAttaching packages\u001b[22m ────────────────────────────────────── tidymodels 1.0.0 ──\n",
      "\n",
      "\u001b[32m✔\u001b[39m \u001b[34mbroom       \u001b[39m 1.0.0     \u001b[32m✔\u001b[39m \u001b[34mrsample     \u001b[39m 1.0.0\n",
      "\u001b[32m✔\u001b[39m \u001b[34mdials       \u001b[39m 1.0.0     \u001b[32m✔\u001b[39m \u001b[34mtune        \u001b[39m 1.0.0\n",
      "\u001b[32m✔\u001b[39m \u001b[34minfer       \u001b[39m 1.0.2     \u001b[32m✔\u001b[39m \u001b[34mworkflows   \u001b[39m 1.0.0\n",
      "\u001b[32m✔\u001b[39m \u001b[34mmodeldata   \u001b[39m 1.0.0     \u001b[32m✔\u001b[39m \u001b[34mworkflowsets\u001b[39m 1.0.0\n",
      "\u001b[32m✔\u001b[39m \u001b[34mparsnip     \u001b[39m 1.0.0     \u001b[32m✔\u001b[39m \u001b[34myardstick   \u001b[39m 1.0.0\n",
      "\u001b[32m✔\u001b[39m \u001b[34mrecipes     \u001b[39m 1.0.1     \n",
      "\n",
      "── \u001b[1mConflicts\u001b[22m ───────────────────────────────────────── tidymodels_conflicts() ──\n",
      "\u001b[31m✖\u001b[39m \u001b[34mscales\u001b[39m::\u001b[32mdiscard()\u001b[39m masks \u001b[34mpurrr\u001b[39m::discard()\n",
      "\u001b[31m✖\u001b[39m \u001b[34mdplyr\u001b[39m::\u001b[32mfilter()\u001b[39m   masks \u001b[34mstats\u001b[39m::filter()\n",
      "\u001b[31m✖\u001b[39m \u001b[34mrecipes\u001b[39m::\u001b[32mfixed()\u001b[39m  masks \u001b[34mstringr\u001b[39m::fixed()\n",
      "\u001b[31m✖\u001b[39m \u001b[34mdplyr\u001b[39m::\u001b[32mlag()\u001b[39m      masks \u001b[34mstats\u001b[39m::lag()\n",
      "\u001b[31m✖\u001b[39m \u001b[34myardstick\u001b[39m::\u001b[32mspec()\u001b[39m masks \u001b[34mreadr\u001b[39m::spec()\n",
      "\u001b[31m✖\u001b[39m \u001b[34mrecipes\u001b[39m::\u001b[32mstep()\u001b[39m   masks \u001b[34mstats\u001b[39m::step()\n",
      "\u001b[34m•\u001b[39m Search for functions across packages at \u001b[32mhttps://www.tidymodels.org/find/\u001b[39m\n",
      "\n"
     ]
    }
   ],
   "source": [
    "### Run this cell before continuing.\n",
    "library(tidyverse)\n",
    "library(repr)\n",
    "library(tidymodels)\n",
    "options(repr.matrix.max.rows = 6)"
   ]
  },
  {
   "cell_type": "markdown",
   "id": "58a452c0-56c2-45da-8aa2-dec97cb5b590",
   "metadata": {},
   "source": [
    "# Heart Disease and Age\n",
    "<img align=\"left\" src=\"https://img.webmd.com/dtmcms/live/webmd/consumer_assets/site_images/article_thumbnails/slideshows/how_heart_disease_affects_your_body_slideshow/650x350_how_heart_disease_affects_your_body_slideshow.jpg\" width=\"500\"/>"
   ]
  },
  {
   "cell_type": "markdown",
   "id": "236da62f-b771-4223-b080-dfb69e9d5a7a",
   "metadata": {},
   "source": [
    "## Introduction"
   ]
  },
  {
   "cell_type": "markdown",
   "id": "2ff354ef-0098-4f82-b4fd-82a3d6910798",
   "metadata": {},
   "source": [
    "**Background Information**\n",
    "\n",
    "Heart disease is a broad range of diseases that affects an individual's heart and blood vessels.\n",
    "\n",
    "These diseases can be influenced by many factors, including underlying health conditions and lifestyle choices.\n"
   ]
  },
  {
   "cell_type": "markdown",
   "id": "64dcf75e-4b44-47dc-a0e5-017e72160e0e",
   "metadata": {},
   "source": [
    "**Our Question**\n",
    "\n",
    "Can the age of an individual with heart disease be predicted by the severity of their symptoms? If so, what are the best predictors? "
   ]
  },
  {
   "cell_type": "markdown",
   "id": "9db43f3a-0688-41a0-91a2-7e4ce3fd8b69",
   "metadata": {},
   "source": [
    "**The Dataset** \n",
    "\n",
    "We are using the “Heart Disease” dataset. This dataset describes a range of attributes, as well as an indication as to the presence of heart disease within each individual. The specific datasets we will be analyzing contains a subset of 14 main attributes, including information about a patient’s sex, age, symptoms, and diagnosis.\n",
    "\n",
    "https://archive.ics.uci.edu/ml/datasets/Heart+Disease"
   ]
  },
  {
   "cell_type": "markdown",
   "id": "21ec9a37-25c9-493a-a054-3b1ea40eb77a",
   "metadata": {},
   "source": [
    "# Methods"
   ]
  },
  {
   "cell_type": "code",
   "execution_count": 17,
   "id": "7b6cfb40-d5b0-492b-afb8-2d21a68603ad",
   "metadata": {},
   "outputs": [
    {
     "name": "stderr",
     "output_type": "stream",
     "text": [
      "\u001b[1mRows: \u001b[22m\u001b[34m200\u001b[39m \u001b[1mColumns: \u001b[22m\u001b[34m14\u001b[39m\n",
      "\u001b[36m──\u001b[39m \u001b[1mColumn specification\u001b[22m \u001b[36m────────────────────────────────────────────────────────\u001b[39m\n",
      "\u001b[1mDelimiter:\u001b[22m \",\"\n",
      "\u001b[31mchr\u001b[39m (9): trestbps, chol, fbs, thalach, exang, oldpeak, slope, ca, thal\n",
      "\u001b[32mdbl\u001b[39m (5): age, sex, chest_pain, restecg, num\n",
      "\n",
      "\u001b[36mℹ\u001b[39m Use `spec()` to retrieve the full column specification for this data.\n",
      "\u001b[36mℹ\u001b[39m Specify the column types or set `show_col_types = FALSE` to quiet this message.\n"
     ]
    }
   ],
   "source": [
    "# First we must read in the dataset.\n",
    "van_data_csv <- read_csv(\"https://archive.ics.uci.edu/ml/machine-learning-databases/heart-disease/processed.va.data\",col_names =\n",
    "               c(\"age\", \"sex\", \"chest_pain\", \"trestbps\", \"chol\",\n",
    "               \"fbs\",  \"restecg\", \"thalach\", \"exang\", \"oldpeak\", \n",
    "               \"slope\", \"ca\", \"thal\", \"num\")) %>%\n",
    "                filter(restecg != \"?\") %>%\n",
    "                filter(chol != \"?\") %>%\n",
    "                filter(trestbps != \"?\")"
   ]
  },
  {
   "cell_type": "markdown",
   "id": "75a9b47f-f060-44ab-bdd9-7085722d3902",
   "metadata": {},
   "source": [
    "**Exploratory Data Analysis**"
   ]
  },
  {
   "cell_type": "code",
   "execution_count": 18,
   "id": "648916c8-cefd-4f55-b998-a1160ae8c25c",
   "metadata": {},
   "outputs": [
    {
     "data": {
      "text/html": [
       "<table class=\"dataframe\">\n",
       "<caption>A tibble: 6 × 4</caption>\n",
       "<thead>\n",
       "\t<tr><th scope=col>age</th><th scope=col>restecg</th><th scope=col>trestbps</th><th scope=col>chol</th></tr>\n",
       "\t<tr><th scope=col>&lt;dbl&gt;</th><th scope=col>&lt;dbl&gt;</th><th scope=col>&lt;chr&gt;</th><th scope=col>&lt;chr&gt;</th></tr>\n",
       "</thead>\n",
       "<tbody>\n",
       "\t<tr><td>58</td><td>0</td><td>132</td><td>458</td></tr>\n",
       "\t<tr><td>67</td><td>1</td><td>160</td><td>384</td></tr>\n",
       "\t<tr><td>50</td><td>2</td><td>144</td><td>349</td></tr>\n",
       "\t<tr><td>61</td><td>0</td><td>120</td><td>337</td></tr>\n",
       "\t<tr><td>54</td><td>1</td><td>127</td><td>333</td></tr>\n",
       "\t<tr><td>57</td><td>1</td><td>130</td><td>311</td></tr>\n",
       "</tbody>\n",
       "</table>\n"
      ],
      "text/latex": [
       "A tibble: 6 × 4\n",
       "\\begin{tabular}{llll}\n",
       " age & restecg & trestbps & chol\\\\\n",
       " <dbl> & <dbl> & <chr> & <chr>\\\\\n",
       "\\hline\n",
       "\t 58 & 0 & 132 & 458\\\\\n",
       "\t 67 & 1 & 160 & 384\\\\\n",
       "\t 50 & 2 & 144 & 349\\\\\n",
       "\t 61 & 0 & 120 & 337\\\\\n",
       "\t 54 & 1 & 127 & 333\\\\\n",
       "\t 57 & 1 & 130 & 311\\\\\n",
       "\\end{tabular}\n"
      ],
      "text/markdown": [
       "\n",
       "A tibble: 6 × 4\n",
       "\n",
       "| age &lt;dbl&gt; | restecg &lt;dbl&gt; | trestbps &lt;chr&gt; | chol &lt;chr&gt; |\n",
       "|---|---|---|---|\n",
       "| 58 | 0 | 132 | 458 |\n",
       "| 67 | 1 | 160 | 384 |\n",
       "| 50 | 2 | 144 | 349 |\n",
       "| 61 | 0 | 120 | 337 |\n",
       "| 54 | 1 | 127 | 333 |\n",
       "| 57 | 1 | 130 | 311 |\n",
       "\n"
      ],
      "text/plain": [
       "  age restecg trestbps chol\n",
       "1 58  0       132      458 \n",
       "2 67  1       160      384 \n",
       "3 50  2       144      349 \n",
       "4 61  0       120      337 \n",
       "5 54  1       127      333 \n",
       "6 57  1       130      311 "
      ]
     },
     "metadata": {},
     "output_type": "display_data"
    }
   ],
   "source": [
    "set.seed(2000)\n",
    "\n",
    "van_split <- initial_split(van_data, prop = 0.75, strata = age) \n",
    "van_train <- training(van_split)  \n",
    "van_test <- testing(van_split)  \n",
    "\n",
    "#In our exploratory data analysis, we used only three variables as predictors.\n",
    "van_data_explore <- van_train %>%\n",
    "             select(age, restecg, trestbps, chol) %>%\n",
    "             arrange(desc(chol))\n",
    "\n",
    "\n",
    "head(van_data_explore)"
   ]
  },
  {
   "cell_type": "markdown",
   "id": "48b7bb1a-e7bb-4935-8c19-f27679e9fe9d",
   "metadata": {},
   "source": [
    "This table shows that those within an older age range (50-60) have the highest cholesterol levels. Higher cholesterol can be considered a more severe symptom of heart disease."
   ]
  },
  {
   "cell_type": "code",
   "execution_count": 19,
   "id": "7f965ab8-ae83-4326-ade7-3241ddd21023",
   "metadata": {},
   "outputs": [
    {
     "name": "stderr",
     "output_type": "stream",
     "text": [
      "`stat_bin()` using `bins = 30`. Pick better value with `binwidth`.\n",
      "\n"
     ]
    },
    {
     "data": {
      "image/png": "[encoded data removed]",
      "text/plain": [
       "plot without title"
      ]
     },
     "metadata": {
      "image/png": {
       "height": 420,
       "width": 420
      }
     },
     "output_type": "display_data"
    }
   ],
   "source": [
    "#In order to visualize the age distribution:\n",
    "van_plot_hist <- ggplot(van_train, aes(x = age)) + \n",
    "            geom_histogram() + \n",
    "            labs(x = \"Age (years)\", title = \"Number of People With Heart Disease\") + \n",
    "            theme( text = element_text(size = 20)) \n",
    "van_plot_hist"
   ]
  },
  {
   "cell_type": "markdown",
   "id": "99b70559-a8b5-4741-9eb6-101b9ba3c005",
   "metadata": {},
   "source": [
    "Through this histogram, we can see a correlation between age, and the quantity of people that contract heart disease. The majority of those with heart disease are bewteen the ages of 55 and 65."
   ]
  },
  {
   "cell_type": "markdown",
   "id": "c8de0209-c35a-4aec-b70a-d5f55fc49548",
   "metadata": {},
   "source": [
    "**Data Analysis**"
   ]
  },
  {
   "cell_type": "code",
   "execution_count": null,
   "id": "34d874c3-88d0-401b-bc17-7a9826f590d5",
   "metadata": {},
   "outputs": [],
   "source": []
  }
 ],
 "metadata": {
  "kernelspec": {
   "display_name": "R",
   "language": "R",
   "name": "ir"
  },
  "language_info": {
   "codemirror_mode": "r",
   "file_extension": ".r",
   "mimetype": "text/x-r-source",
   "name": "R",
   "pygments_lexer": "r",
   "version": "4.1.3"
  }
 },
 "nbformat": 4,
 "nbformat_minor": 5
}
