{
 "cells": [
  {
   "cell_type": "code",
   "execution_count": 1,
   "id": "ef605440-1a36-48d7-9320-18891f7d8f62",
   "metadata": {},
   "outputs": [
    {
     "ename": "ERROR",
     "evalue": "Error in van_train %>% mutate_all(as.numeric) %>% ggpairs(columns = 1:4) %>% : could not find function \"%>%\"\n",
     "output_type": "error",
     "traceback": [
      "Error in van_train %>% mutate_all(as.numeric) %>% ggpairs(columns = 1:4) %>% : could not find function \"%>%\"\nTraceback:\n"
     ]
    }
   ],
   "source": [
    "set.seed(2000)\n",
    "\n",
    "#?? not working\n",
    "\n",
    "\n",
    "van_train_predictors <- van_train %>%\n",
    "    mutate_all(as.numeric) %>%\n",
    "    ggpairs(columns = 1:4)%>%\n",
    "    suppressWarnings()\n",
    "\n",
    "#van_train_predictors <- ggpairs(van_train, columns = 1:6)\n",
    "\n",
    "\n",
    "\n",
    "van_train_predictors"
   ]
  },
  {
   "cell_type": "code",
   "execution_count": null,
   "id": "b193428b-1df9-4be3-8171-0a5e0a348045",
   "metadata": {},
   "outputs": [],
   "source": [
    "set.seed(2000)\n",
    "\n",
    "#?? not working\n",
    "\n",
    "\n",
    "heart_predicting_testing <- as_tibble(select(heart_train,age, restecg, trestbps, chol))\n",
    "\n",
    "\n",
    "\n",
    "\n",
    "options(repr.plot.height = 10, repr.plot.width = 20)\n",
    "heart_train_predictors <- heart_predicting_testing %>%\n",
    "    mutate_all(as.numeric) %>%\n",
    "    ggpairs(columns = 1:4, alpha = 0.05)%>%\n",
    "    suppressWarnings()\n",
    "\n",
    "#van_train_predictors <- ggpairs(van_train, columns = 1:6)\n",
    "\n",
    "\n",
    "\n",
    "heart_train_predictors"
   ]
  },
  {
   "cell_type": "code",
   "execution_count": 2,
   "id": "7fb03336-72c2-4407-9a12-23e3d034342b",
   "metadata": {},
   "outputs": [
    {
     "ename": "ERROR",
     "evalue": "Error in parse(text = x, srcfile = src): <text>:1:13: unexpected symbol\n1: Determining Best\n                ^\n",
     "output_type": "error",
     "traceback": [
      "Error in parse(text = x, srcfile = src): <text>:1:13: unexpected symbol\n1: Determining Best\n                ^\nTraceback:\n"
     ]
    }
   ],
   "source": [
    "Determining Best Predictors\n",
    "^"
   ]
  },
  {
   "cell_type": "code",
   "execution_count": null,
   "id": "c3cdf590-10d0-478c-853a-f9fb7465e2ba",
   "metadata": {},
   "outputs": [],
   "source": []
  }
 ],
 "metadata": {
  "kernelspec": {
   "display_name": "R",
   "language": "R",
   "name": "ir"
  },
  "language_info": {
   "codemirror_mode": "r",
   "file_extension": ".r",
   "mimetype": "text/x-r-source",
   "name": "R",
   "pygments_lexer": "r",
   "version": "4.1.3"
  }
 },
 "nbformat": 4,
 "nbformat_minor": 5
}
